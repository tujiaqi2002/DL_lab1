{
  "cells": [
    {
      "cell_type": "markdown",
      "metadata": {
        "id": "view-in-github",
        "colab_type": "text"
      },
      "source": [
        "<a href=\"https://colab.research.google.com/github/tujiaqi2002/DL_lab1/blob/main/Lab2_Cats_vs_Dogs.ipynb\" target=\"_parent\"><img src=\"https://colab.research.google.com/assets/colab-badge.svg\" alt=\"Open In Colab\"/></a>"
      ]
    },
    {
      "cell_type": "markdown",
      "metadata": {
        "id": "X6WDvajSqIDs"
      },
      "source": [
        "# Lab 2: Cats vs Dogs\n",
        "\n",
        "In this lab, you will train a convolutional neural network to classify an image \n",
        "into one of two classes: \"cat\" or \"dog\". The code for the neural networks \n",
        "you train will be written for you, and you are not (yet!) expected\n",
        "to understand all provided code. However, by the end of the lab,\n",
        "you should be able to:\n",
        "\n",
        "1. Understand at a high level the training loop for a machine learning model.\n",
        "2. Understand the distinction between training, validation, and test data.\n",
        "3. The concepts of overfitting and underfitting.\n",
        "4. Investigate how different hyperparameters, such as learning rate and batch size, affect the success of training.\n",
        "5. Compare an ANN (aka Multi-Layer Perceptron) with a CNN.\n",
        "\n",
        "### What to submit\n",
        "\n",
        "Submit a PDF file containing all your code, outputs, and write-up\n",
        "from parts 1-5. You can produce a PDF of your Google Colab file by\n",
        "going to **File > Print** and then save as PDF. The Colab instructions\n",
        "has more information.\n",
        "\n",
        "**Do not submit any other files produced by your code.**\n",
        "\n",
        "Include a link to your colab file in your submission.\n",
        "\n",
        "Please use Google Colab to complete this assignment. If you want to use Jupyter Notebook, please complete the assignment and upload your Jupyter Notebook file to Google Colab for submission. \n",
        "\n",
        "With Colab, you can export a PDF file using the menu option\n",
        "`File -> Print` and save as PDF file. **Adjust the scaling to ensure that the text is not cutoff at the margins.**"
      ]
    },
    {
      "cell_type": "markdown",
      "metadata": {
        "id": "LfiFE_WOqIDu"
      },
      "source": [
        "## Colab Link\n",
        "\n",
        "Include a link to your colab file here\n",
        "\n",
        "Colab Link: https://colab.research.google.com/drive/1-ItLd1aB4hkafZTheNFw_3kdGWPmn3x3?usp=sharing"
      ]
    },
    {
      "cell_type": "code",
      "execution_count": 2,
      "metadata": {
        "collapsed": true,
        "id": "SwyDuiuUqIDv",
        "jupyter": {
          "outputs_hidden": true
        }
      },
      "outputs": [],
      "source": [
        "import numpy as np\n",
        "import time\n",
        "import torch\n",
        "import torch.nn as nn\n",
        "import torch.nn.functional as F\n",
        "import torch.optim as optim\n",
        "import torchvision\n",
        "from torch.utils.data.sampler import SubsetRandomSampler\n",
        "import torchvision.transforms as transforms\n"
      ]
    },
    {
      "cell_type": "markdown",
      "metadata": {
        "id": "kvTXpH_kqIDy"
      },
      "source": [
        "## Part 0. Helper Functions\n",
        "\n",
        "We will be making use of the following helper functions. You will be asked to look\n",
        "at and possibly modify some of these, but you are not expected to understand all of them.\n",
        "\n",
        "You should look at the function names and read the docstrings. If you are curious, come back and explore the code *after* making some progress on the lab."
      ]
    },
    {
      "cell_type": "code",
      "execution_count": 3,
      "metadata": {
        "collapsed": true,
        "id": "wEjwWEkoqIDz",
        "jupyter": {
          "outputs_hidden": true
        }
      },
      "outputs": [],
      "source": [
        "###############################################################################\n",
        "# Data Loading\n",
        "\n",
        "def get_relevant_indices(dataset, classes, target_classes):\n",
        "    \"\"\" Return the indices for datapoints in the dataset that belongs to the\n",
        "    desired target classes, a subset of all possible classes.\n",
        "\n",
        "    Args:\n",
        "        dataset: Dataset object\n",
        "        classes: A list of strings denoting the name of each class\n",
        "        target_classes: A list of strings denoting the name of desired classes\n",
        "                        Should be a subset of the 'classes'\n",
        "    Returns:\n",
        "        indices: list of indices that have labels corresponding to one of the\n",
        "                 target classes\n",
        "    \"\"\"\n",
        "    indices = []\n",
        "    for i in range(len(dataset)):\n",
        "        # Check if the label is in the target classes\n",
        "        label_index = dataset[i][1] # ex: 3\n",
        "        label_class = classes[label_index] # ex: 'cat'\n",
        "        if label_class in target_classes:\n",
        "            indices.append(i)\n",
        "    return indices\n",
        "\n",
        "def get_data_loader(target_classes, batch_size):\n",
        "    \"\"\" Loads images of cats and dogs, splits the data into training, validation\n",
        "    and testing datasets. Returns data loaders for the three preprocessed datasets.\n",
        "\n",
        "    Args:\n",
        "        target_classes: A list of strings denoting the name of the desired\n",
        "                        classes. Should be a subset of the argument 'classes'\n",
        "        batch_size: A int representing the number of samples per batch\n",
        "    \n",
        "    Returns:\n",
        "        train_loader: iterable training dataset organized according to batch size\n",
        "        val_loader: iterable validation dataset organized according to batch size\n",
        "        test_loader: iterable testing dataset organized according to batch size\n",
        "        classes: A list of strings denoting the name of each class\n",
        "    \"\"\"\n",
        "\n",
        "    classes = ('plane', 'car', 'bird', 'cat',\n",
        "               'deer', 'dog', 'frog', 'horse', 'ship', 'truck')\n",
        "    ########################################################################\n",
        "    # The output of torchvision datasets are PILImage images of range [0, 1].\n",
        "    # We transform them to Tensors of normalized range [-1, 1].\n",
        "    transform = transforms.Compose(\n",
        "        [transforms.ToTensor(),\n",
        "         transforms.Normalize((0.5, 0.5, 0.5), (0.5, 0.5, 0.5))])\n",
        "    # Load CIFAR10 training data\n",
        "    trainset = torchvision.datasets.CIFAR10(root='./data', train=True,\n",
        "                                            download=True, transform=transform)\n",
        "    # Get the list of indices to sample from\n",
        "    relevant_indices = get_relevant_indices(trainset, classes, target_classes)\n",
        "    \n",
        "    # Split into train and validation\n",
        "    np.random.seed(1000) # Fixed numpy random seed for reproducible shuffling\n",
        "    np.random.shuffle(relevant_indices)\n",
        "    split = int(len(relevant_indices) * 0.8) #split at 80%\n",
        "    \n",
        "    # split into training and validation indices\n",
        "    relevant_train_indices, relevant_val_indices = relevant_indices[:split], relevant_indices[split:]  \n",
        "    train_sampler = SubsetRandomSampler(relevant_train_indices)\n",
        "    train_loader = torch.utils.data.DataLoader(trainset, batch_size=batch_size,\n",
        "                                               num_workers=1, sampler=train_sampler)\n",
        "    val_sampler = SubsetRandomSampler(relevant_val_indices)\n",
        "    val_loader = torch.utils.data.DataLoader(trainset, batch_size=batch_size,\n",
        "                                              num_workers=1, sampler=val_sampler)\n",
        "    # Load CIFAR10 testing data\n",
        "    testset = torchvision.datasets.CIFAR10(root='./data', train=False,\n",
        "                                           download=True, transform=transform)\n",
        "    # Get the list of indices to sample from\n",
        "    relevant_test_indices = get_relevant_indices(testset, classes, target_classes)\n",
        "    test_sampler = SubsetRandomSampler(relevant_test_indices)\n",
        "    test_loader = torch.utils.data.DataLoader(testset, batch_size=batch_size,\n",
        "                                             num_workers=1, sampler=test_sampler)\n",
        "    return train_loader, val_loader, test_loader, classes\n",
        "\n",
        "###############################################################################\n",
        "# Training\n",
        "def get_model_name(name, batch_size, learning_rate, epoch):\n",
        "    \"\"\" Generate a name for the model consisting of all the hyperparameter values\n",
        "\n",
        "    Args:\n",
        "        config: Configuration object containing the hyperparameters\n",
        "    Returns:\n",
        "        path: A string with the hyperparameter name and value concatenated\n",
        "    \"\"\"\n",
        "    path = \"model_{0}_bs{1}_lr{2}_epoch{3}\".format(name,\n",
        "                                                   batch_size,\n",
        "                                                   learning_rate,\n",
        "                                                   epoch)\n",
        "    return path\n",
        "\n",
        "def normalize_label(labels):\n",
        "    \"\"\"\n",
        "    Given a tensor containing 2 possible values, normalize this to 0/1\n",
        "\n",
        "    Args:\n",
        "        labels: a 1D tensor containing two possible scalar values\n",
        "    Returns:\n",
        "        A tensor normalize to 0/1 value\n",
        "    \"\"\"\n",
        "    max_val = torch.max(labels)\n",
        "    min_val = torch.min(labels)\n",
        "    norm_labels = (labels - min_val)/(max_val - min_val)\n",
        "    return norm_labels\n",
        "\n",
        "def evaluate(net, loader, criterion):\n",
        "    \"\"\" Evaluate the network on the validation set.\n",
        "\n",
        "     Args:\n",
        "         net: PyTorch neural network object\n",
        "         loader: PyTorch data loader for the validation set\n",
        "         criterion: The loss function\n",
        "     Returns:\n",
        "         err: A scalar for the avg classification error over the validation set\n",
        "         loss: A scalar for the average loss function over the validation set\n",
        "     \"\"\"\n",
        "    total_loss = 0.0\n",
        "    total_err = 0.0\n",
        "    total_epoch = 0\n",
        "    for i, data in enumerate(loader, 0):\n",
        "        inputs, labels = data\n",
        "        labels = normalize_label(labels)  # Convert labels to 0/1\n",
        "        outputs = net(inputs)\n",
        "        loss = criterion(outputs, labels.float())\n",
        "        corr = (outputs > 0.0).squeeze().long() != labels\n",
        "        total_err += int(corr.sum())\n",
        "        total_loss += loss.item()\n",
        "        total_epoch += len(labels)\n",
        "    err = float(total_err) / total_epoch\n",
        "    loss = float(total_loss) / (i + 1)\n",
        "    return err, loss\n",
        "\n",
        "###############################################################################\n",
        "# Training Curve\n",
        "def plot_training_curve(path):\n",
        "    \"\"\" Plots the training curve for a model run, given the csv files\n",
        "    containing the train/validation error/loss.\n",
        "\n",
        "    Args:\n",
        "        path: The base path of the csv files produced during training\n",
        "    \"\"\"\n",
        "    import matplotlib.pyplot as plt\n",
        "    train_err = np.loadtxt(\"{}_train_err.csv\".format(path))\n",
        "    val_err = np.loadtxt(\"{}_val_err.csv\".format(path))\n",
        "    train_loss = np.loadtxt(\"{}_train_loss.csv\".format(path))\n",
        "    val_loss = np.loadtxt(\"{}_val_loss.csv\".format(path))\n",
        "    plt.title(\"Train vs Validation Error\")\n",
        "    n = len(train_err) # number of epochs\n",
        "    plt.plot(range(1,n+1), train_err, label=\"Train\")\n",
        "    plt.plot(range(1,n+1), val_err, label=\"Validation\")\n",
        "    plt.xlabel(\"Epoch\")\n",
        "    plt.ylabel(\"Error\")\n",
        "    plt.legend(loc='best')\n",
        "    plt.show()\n",
        "    plt.title(\"Train vs Validation Loss\")\n",
        "    plt.plot(range(1,n+1), train_loss, label=\"Train\")\n",
        "    plt.plot(range(1,n+1), val_loss, label=\"Validation\")\n",
        "    plt.xlabel(\"Epoch\")\n",
        "    plt.ylabel(\"Loss\")\n",
        "    plt.legend(loc='best')\n",
        "    plt.show()"
      ]
    },
    {
      "cell_type": "markdown",
      "metadata": {
        "id": "bJxMgWGNqID2"
      },
      "source": [
        "## Part 1. Visualizing the Data [7 pt]\n",
        "\n",
        "We will make use of some of the CIFAR-10 data set, which consists of \n",
        "colour images of size 32x32 pixels belonging to 10 categories. You can\n",
        "find out more about the dataset at https://www.cs.toronto.edu/~kriz/cifar.html\n",
        "\n",
        "For this assignment, we will only be using the cat and dog categories. \n",
        "We have included code that automatically downloads the dataset the \n",
        "first time that the main script is run."
      ]
    },
    {
      "cell_type": "code",
      "execution_count": 4,
      "metadata": {
        "colab": {
          "base_uri": "https://localhost:8080/",
          "height": 101,
          "referenced_widgets": [
            "a6db6ef8cc3c40019210cbc04add3dfc",
            "46fe9023069545cfaf31a72b745c84dc",
            "dfdacec15ce34431994a7947fffc69a5",
            "0d2170e36af24ad5b7e6492e5cc1d3a0",
            "cbb8e87501ae40168d7ab61de0d4b2f8",
            "204eb119c09041989f3654efbec5d923",
            "87f41d53a54042e3a4a8420b1943f7e0",
            "c9135b4f69744963bee22a8f8848c50f",
            "7f4f76a79db04abfaab5b1a4ad184c30",
            "da6d10c09f0a4f5d91a23c7c7afcc42d",
            "9a9f5b9eb8434ef4b1fa26cf99bc5c69"
          ]
        },
        "collapsed": true,
        "id": "Rp7LVcGfqID3",
        "jupyter": {
          "outputs_hidden": true
        },
        "scrolled": true,
        "outputId": "a147b079-dd05-4a06-c6aa-a8161636fbbb"
      },
      "outputs": [
        {
          "output_type": "stream",
          "name": "stdout",
          "text": [
            "Downloading https://www.cs.toronto.edu/~kriz/cifar-10-python.tar.gz to ./data/cifar-10-python.tar.gz\n"
          ]
        },
        {
          "output_type": "display_data",
          "data": {
            "text/plain": [
              "  0%|          | 0/170498071 [00:00<?, ?it/s]"
            ],
            "application/vnd.jupyter.widget-view+json": {
              "version_major": 2,
              "version_minor": 0,
              "model_id": "a6db6ef8cc3c40019210cbc04add3dfc"
            }
          },
          "metadata": {}
        },
        {
          "output_type": "stream",
          "name": "stdout",
          "text": [
            "Extracting ./data/cifar-10-python.tar.gz to ./data\n",
            "Files already downloaded and verified\n"
          ]
        }
      ],
      "source": [
        "# This will download the CIFAR-10 dataset to a folder called \"data\"\n",
        "# the first time you run this code.\n",
        "train_loader, val_loader, test_loader, classes = get_data_loader(\n",
        "    target_classes=[\"cat\", \"dog\"], \n",
        "    batch_size=1) # One image per batch"
      ]
    },
    {
      "cell_type": "markdown",
      "metadata": {
        "id": "JiYX_HM-qID6"
      },
      "source": [
        "### Part (a) -- 1 pt\n",
        "\n",
        "Visualize some of the data by running the code below.\n",
        "Include the visualization in your writeup.\n",
        "\n",
        "(You don't need to submit anything else.)"
      ]
    },
    {
      "cell_type": "code",
      "execution_count": 5,
      "metadata": {
        "colab": {
          "base_uri": "https://localhost:8080/",
          "height": 242
        },
        "collapsed": true,
        "id": "UJ4pYFTQqID7",
        "jupyter": {
          "outputs_hidden": true
        },
        "scrolled": true,
        "outputId": "6cb7a6c9-4920-4285-fad8-6032a9d8fce9"
      },
      "outputs": [
        {
          "output_type": "display_data",
          "data": {
            "text/plain": [
              "<Figure size 432x288 with 15 Axes>"
            ],
            "image/png": "[encoded data removed]"
          },
          "metadata": {
            "needs_background": "light"
          }
        }
      ],
      "source": [
        "import matplotlib.pyplot as plt\n",
        "\n",
        "k = 0\n",
        "for images, labels in train_loader:\n",
        "    # since batch_size = 1, there is only 1 image in `images`\n",
        "    image = images[0]\n",
        "    # place the colour channel at the end, instead of at the beginning\n",
        "    img = np.transpose(image, [1,2,0])\n",
        "    # normalize pixel intensity values to [0, 1]\n",
        "    img = img / 2 + 0.5\n",
        "    plt.subplot(3, 5, k+1)\n",
        "    plt.axis('off')\n",
        "    plt.imshow(img)\n",
        "\n",
        "    k += 1\n",
        "    if k > 14:\n",
        "        break"
      ]
    },
    {
      "cell_type": "markdown",
      "metadata": {
        "id": "UmHiUOaDqID9"
      },
      "source": [
        "### Part (b) -- 3 pt\n",
        "\n",
        "How many training examples do we have for the combined `cat` and `dog` classes? \n",
        "What about validation examples? \n",
        "What about test examples?"
      ]
    },
    {
      "cell_type": "code",
      "execution_count": 6,
      "metadata": {
        "colab": {
          "base_uri": "https://localhost:8080/"
        },
        "collapsed": true,
        "id": "6p4eAz1IqID-",
        "jupyter": {
          "outputs_hidden": true
        },
        "outputId": "b22274c2-ab42-4c65-a622-43f6ee96b454"
      },
      "outputs": [
        {
          "output_type": "stream",
          "name": "stdout",
          "text": [
            "number of training examples: 50000\n",
            "number of validation examples: 50000\n",
            "number of test examples: 10000\n"
          ]
        }
      ],
      "source": [
        "print(\"number of training examples:\", len(train_loader.dataset))\n",
        "print(\"number of validation examples:\", len(val_loader.dataset))\n",
        "print(\"number of test examples:\", len(test_loader.dataset))"
      ]
    },
    {
      "cell_type": "markdown",
      "metadata": {
        "id": "3aY25I_oqIEB"
      },
      "source": [
        "### Part (c) -- 3pt\n",
        "\n",
        "Why do we need a validation set when training our model? What happens if we judge the \n",
        "performance of our models using the training set loss/error instead of the validation\n",
        "set loss/error?"
      ]
    },
    {
      "cell_type": "code",
      "execution_count": 7,
      "metadata": {
        "collapsed": true,
        "id": "zYqVAG5YqIEB",
        "jupyter": {
          "outputs_hidden": true
        }
      },
      "outputs": [],
      "source": [
        "# The validation set is used to assess the model's performance on data it hasn't seen before,\n",
        "# during the training process. This is done to prevent overfitting, \n",
        "# which is when the model becomes too specialized for the training set and does not perform well on new data.\n",
        "\n",
        "# If we evaluate the model using the training set loss or error instead of the validation set,\n",
        "# we cannot accurately determine if the model is overfitting.\n",
        "# The model may have a low training set loss or error but a high validation set loss or error, indicating poor performance on new data.\n",
        "\n",
        "# It's therefore crucial to use the validation set to determine the model's performance on unseen data,\n",
        "# and make adjustments to prevent overfitting and improve its ability to generalize to new data.\n"
      ]
    },
    {
      "cell_type": "markdown",
      "source": [],
      "metadata": {
        "id": "WDeO1hyyjzer"
      }
    },
    {
      "cell_type": "markdown",
      "metadata": {
        "id": "6iYZ4xXHqIEE"
      },
      "source": [
        "## Part 2. Training [15 pt]\n",
        "\n",
        "We define two neural networks, a `LargeNet` and `SmallNet`.\n",
        "We'll be training the networks in this section.\n",
        "\n",
        "You won't understand fully what these networks are doing until\n",
        "the next few classes, and that's okay. For this assignment, please\n",
        "focus on learning how to train networks, and how hyperparameters affect\n",
        "training."
      ]
    },
    {
      "cell_type": "code",
      "execution_count": 8,
      "metadata": {
        "collapsed": true,
        "id": "HniZoI3lqIEF",
        "jupyter": {
          "outputs_hidden": true
        }
      },
      "outputs": [],
      "source": [
        "class LargeNet(nn.Module):\n",
        "    def __init__(self):\n",
        "        super(LargeNet, self).__init__()\n",
        "        self.name = \"large\"\n",
        "        self.conv1 = nn.Conv2d(3, 5, 5)\n",
        "        self.pool = nn.MaxPool2d(2, 2)\n",
        "        self.conv2 = nn.Conv2d(5, 10, 5)\n",
        "        self.fc1 = nn.Linear(10 * 5 * 5, 32)\n",
        "        self.fc2 = nn.Linear(32, 1)\n",
        "\n",
        "    def forward(self, x):\n",
        "        x = self.pool(F.relu(self.conv1(x)))\n",
        "        x = self.pool(F.relu(self.conv2(x)))\n",
        "        x = x.view(-1, 10 * 5 * 5)\n",
        "        x = F.relu(self.fc1(x))\n",
        "        x = self.fc2(x)\n",
        "        x = x.squeeze(1) # Flatten to [batch_size]\n",
        "        return x"
      ]
    },
    {
      "cell_type": "code",
      "execution_count": 9,
      "metadata": {
        "collapsed": true,
        "id": "pJgOmJdvqIEH",
        "jupyter": {
          "outputs_hidden": true
        }
      },
      "outputs": [],
      "source": [
        "class SmallNet(nn.Module):\n",
        "    def __init__(self):\n",
        "        super(SmallNet, self).__init__()\n",
        "        self.name = \"small\"\n",
        "        self.conv = nn.Conv2d(3, 5, 3)\n",
        "        self.pool = nn.MaxPool2d(2, 2)\n",
        "        self.fc = nn.Linear(5 * 7 * 7, 1)\n",
        "\n",
        "    def forward(self, x):\n",
        "        x = self.pool(F.relu(self.conv(x)))\n",
        "        x = self.pool(x)\n",
        "        x = x.view(-1, 5 * 7 * 7)\n",
        "        x = self.fc(x)\n",
        "        x = x.squeeze(1) # Flatten to [batch_size]\n",
        "        return x"
      ]
    },
    {
      "cell_type": "code",
      "execution_count": 10,
      "metadata": {
        "collapsed": true,
        "id": "pMJZt_S2qIEM",
        "jupyter": {
          "outputs_hidden": true
        }
      },
      "outputs": [],
      "source": [
        "small_net = SmallNet()\n",
        "large_net = LargeNet()"
      ]
    },
    {
      "cell_type": "markdown",
      "metadata": {
        "id": "-ekO3pj9qIEQ"
      },
      "source": [
        "### Part (a) -- 2pt\n",
        "\n",
        "The methods `small_net.parameters()` and `large_net.parameters()`\n",
        "produces an iterator of all the trainable parameters of the network.\n",
        "These parameters are torch tensors containing many scalar values. \n",
        "\n",
        "We haven't learned how how the parameters in these high-dimensional\n",
        "tensors will be used, but we should be able to count the number\n",
        "of parameters. Measuring the number of parameters in a network is\n",
        "one way of measuring the \"size\" of a network.\n",
        "\n",
        "What is the total number of parameters in `small_net` and in\n",
        "`large_net`? (Hint: how many numbers are in each tensor?)"
      ]
    },
    {
      "cell_type": "code",
      "execution_count": 11,
      "metadata": {
        "collapsed": true,
        "id": "dc4keyOnqIER",
        "jupyter": {
          "outputs_hidden": true
        },
        "colab": {
          "base_uri": "https://localhost:8080/"
        },
        "outputId": "6c187d3d-e763-4208-9c08-01befc26838f"
      },
      "outputs": [
        {
          "output_type": "stream",
          "name": "stdout",
          "text": [
            "torch.Size([5, 3, 3, 3])\n",
            "torch.Size([5])\n",
            "torch.Size([1, 245])\n",
            "torch.Size([1])\n",
            "\n",
            "torch.Size([5, 3, 5, 5])\n",
            "torch.Size([5])\n",
            "torch.Size([10, 5, 5, 5])\n",
            "torch.Size([10])\n",
            "torch.Size([32, 250])\n",
            "torch.Size([32])\n",
            "torch.Size([1, 32])\n",
            "torch.Size([1])\n"
          ]
        }
      ],
      "source": [
        "for param in small_net.parameters():\n",
        "    print(param.shape)\n",
        "print()\n",
        "for param in large_net.parameters():\n",
        "    print(param.shape)\n",
        "\n",
        "# Total number of parameters in small_net = 5*3*3*3 + 5 + 1*245 + 1 = 386\n",
        "# Total number of parameters in large_net =  5*3*5*5+5 + 10*5*5*5 + 10 + 32*250 + 32 + 1*32 + 1 = 9705\n"
      ]
    },
    {
      "cell_type": "markdown",
      "metadata": {
        "id": "OcZVo2DsqIET"
      },
      "source": [
        "### The function train_net\n",
        "\n",
        "The function `train_net` below takes an untrained neural network (like `small_net` and `large_net`) and\n",
        "several other parameters. You should be able to understand how this function works.\n",
        "The figure below shows the high level training loop for a machine learning model:\n",
        "\n",
        "![alt text](https://github.com/UTNeural/Lab2/blob/master/Diagram.png?raw=true)"
      ]
    },
    {
      "cell_type": "code",
      "execution_count": 15,
      "metadata": {
        "collapsed": true,
        "id": "jC90G_VGqIEU",
        "jupyter": {
          "outputs_hidden": true
        }
      },
      "outputs": [],
      "source": [
        "def train_net(net, batch_size=64, learning_rate=0.01, num_epochs=30):\n",
        "    ########################################################################\n",
        "    # Train a classifier on cats vs dogs\n",
        "    target_classes = [\"cat\", \"dog\"]\n",
        "    ########################################################################\n",
        "    # Fixed PyTorch random seed for reproducible result\n",
        "    torch.manual_seed(1000)\n",
        "    ########################################################################\n",
        "    # Obtain the PyTorch data loader objects to load batches of the datasets\n",
        "    train_loader, val_loader, test_loader, classes = get_data_loader(\n",
        "            target_classes, batch_size)\n",
        "    ########################################################################\n",
        "    # Define the Loss function and optimizer\n",
        "    # The loss function will be Binary Cross Entropy (BCE). In this case we\n",
        "    # will use the BCEWithLogitsLoss which takes unnormalized output from\n",
        "    # the neural network and scalar label.\n",
        "    # Optimizer will be SGD with Momentum.\n",
        "    criterion = nn.BCEWithLogitsLoss()\n",
        "    optimizer = optim.SGD(net.parameters(), lr=learning_rate, momentum=0.9)\n",
        "    ########################################################################\n",
        "    # Set up some numpy arrays to store the training/test loss/erruracy\n",
        "    train_err = np.zeros(num_epochs)\n",
        "    train_loss = np.zeros(num_epochs)\n",
        "    val_err = np.zeros(num_epochs)\n",
        "    val_loss = np.zeros(num_epochs)\n",
        "    ########################################################################\n",
        "    # Train the network\n",
        "    # Loop over the data iterator and sample a new batch of training data\n",
        "    # Get the output from the network, and optimize our loss function.\n",
        "    start_time = time.time()\n",
        "    for epoch in range(num_epochs):  # loop over the dataset multiple times\n",
        "        total_train_loss = 0.0\n",
        "        total_train_err = 0.0\n",
        "        total_epoch = 0\n",
        "        for i, data in enumerate(train_loader, 0):\n",
        "            # Get the inputs\n",
        "            inputs, labels = data\n",
        "            labels = normalize_label(labels) # Convert labels to 0/1\n",
        "            # Zero the parameter gradients\n",
        "            optimizer.zero_grad()\n",
        "            # Forward pass, backward pass, and optimize\n",
        "            outputs = net(inputs)\n",
        "            loss = criterion(outputs, labels.float())\n",
        "            loss.backward()\n",
        "            optimizer.step()\n",
        "            # Calculate the statistics\n",
        "            corr = (outputs > 0.0).squeeze().long() != labels\n",
        "            total_train_err += int(corr.sum())\n",
        "            total_train_loss += loss.item()\n",
        "            total_epoch += len(labels)\n",
        "        train_err[epoch] = float(total_train_err) / total_epoch\n",
        "        train_loss[epoch] = float(total_train_loss) / (i+1)\n",
        "        val_err[epoch], val_loss[epoch] = evaluate(net, val_loader, criterion)\n",
        "        print((\"Epoch {}: Train err: {}, Train loss: {} |\"+\n",
        "               \"Validation err: {}, Validation loss: {}\").format(\n",
        "                   epoch + 1,\n",
        "                   train_err[epoch],\n",
        "                   train_loss[epoch],\n",
        "                   val_err[epoch],\n",
        "                   val_loss[epoch]))\n",
        "        # Save the current model (checkpoint) to a file\n",
        "        model_path = get_model_name(net.name, batch_size, learning_rate, epoch)\n",
        "        torch.save(net.state_dict(), model_path)\n",
        "    print('Finished Training')\n",
        "    end_time = time.time()\n",
        "    elapsed_time = end_time - start_time\n",
        "    print(\"Total time elapsed: {:.2f} seconds\".format(elapsed_time))\n",
        "    # Write the train/test loss/err into CSV file for plotting later\n",
        "    epochs = np.arange(1, num_epochs + 1)\n",
        "    np.savetxt(\"{}_train_err.csv\".format(model_path), train_err)\n",
        "    np.savetxt(\"{}_train_loss.csv\".format(model_path), train_loss)\n",
        "    np.savetxt(\"{}_val_err.csv\".format(model_path), val_err)\n",
        "    np.savetxt(\"{}_val_loss.csv\".format(model_path), val_loss)\n"
      ]
    },
    {
      "cell_type": "markdown",
      "metadata": {
        "id": "jEhligNaqIEW"
      },
      "source": [
        "### Part (b) -- 1pt\n",
        "\n",
        "The parameters to the function `train_net` are hyperparameters of our neural network.\n",
        "We made these hyperparameters easy to modify so that we can tune them later on. \n",
        "\n",
        "What are the default values of the parameters `batch_size`, `learning_rate`, \n",
        "and `num_epochs`?"
      ]
    },
    {
      "cell_type": "code",
      "execution_count": 13,
      "metadata": {
        "collapsed": true,
        "id": "Ybq2F5KTqIEX",
        "jupyter": {
          "outputs_hidden": true
        }
      },
      "outputs": [],
      "source": [
        "# batch_size=64, learning_rate=0.01, num_epochs=30"
      ]
    },
    {
      "cell_type": "markdown",
      "metadata": {
        "id": "Qy_yv9NMqIEa"
      },
      "source": [
        "### Part (c) -- 3 pt\n",
        "\n",
        "What files are written to disk when we call `train_net` with `small_net`, and train for 5 epochs? Provide a list\n",
        "of all the files written to disk, and what information the files contain."
      ]
    },
    {
      "cell_type": "code",
      "execution_count": 22,
      "metadata": {
        "collapsed": true,
        "id": "hNwhtyP1qIEb",
        "jupyter": {
          "outputs_hidden": true
        },
        "colab": {
          "base_uri": "https://localhost:8080/"
        },
        "outputId": "70461689-79aa-4c3f-941c-0c3e3a1aa61b"
      },
      "outputs": [
        {
          "output_type": "stream",
          "name": "stdout",
          "text": [
            "Files already downloaded and verified\n",
            "Files already downloaded and verified\n",
            "Epoch 1: Train err: 0.2695, Train loss: 0.527760290145874 |Validation err: 0.299, Validation loss: 0.5689662648364902\n",
            "model_small_bs64_lr0.01_epoch0\n",
            "Epoch 2: Train err: 0.26675, Train loss: 0.5282260246276855 |Validation err: 0.299, Validation loss: 0.5673456508666277\n",
            "model_small_bs64_lr0.01_epoch1\n",
            "Epoch 3: Train err: 0.26575, Train loss: 0.5300454437732697 |Validation err: 0.3005, Validation loss: 0.5711722169071436\n",
            "model_small_bs64_lr0.01_epoch2\n",
            "Epoch 4: Train err: 0.2675, Train loss: 0.5289916694164276 |Validation err: 0.2895, Validation loss: 0.563718349672854\n",
            "model_small_bs64_lr0.01_epoch3\n",
            "Epoch 5: Train err: 0.2675, Train loss: 0.5260329639911652 |Validation err: 0.2995, Validation loss: 0.5740659032016993\n",
            "model_small_bs64_lr0.01_epoch4\n",
            "Finished Training\n",
            "Total time elapsed: 17.02 seconds\n"
          ]
        }
      ],
      "source": [
        "train_net(small_net,num_epochs=5)\n",
        "\n",
        "# model_small_bs64_lr0.01_epoch4_train_err.csv: \n",
        "# This file contains the training error at till last epoch. It is saved as a CSV file and can be used for later plotting or analysis.\n",
        "\n",
        "# model_small_bs64_lr0.01_epoch4_train_loss.csv: \n",
        "# This file contains the training loss at till last epoch. It is saved as a CSV file and can be used for later plotting or analysis.\n",
        "\n",
        "# model_small_bs64_lr0.01_epoch4_val_err.csv: \n",
        "# This file contains the validation error till last epoch. It is saved as a CSV file and can be used for later plotting or analysis.\n",
        "\n",
        "# model_small_bs64_lr0.01_epoch4_val_loss.csv: \n",
        "# This file contains the validation loss at till last epoch. It is saved as a CSV file and can be used for later plotting or analysis.\n",
        "\n",
        "# model_small_bs64_lr0.01_epoch0\n",
        "# model_small_bs64_lr0.01_epoch1\n",
        "# model_small_bs64_lr0.01_epoch2\n",
        "# model_small_bs64_lr0.01_epoch3\n",
        "# model_small_bs64_lr0.01_epoch4\n",
        "# These are the check point saving files for each epoch"
      ]
    },
    {
      "cell_type": "markdown",
      "metadata": {
        "id": "a6shtCFDqIEd"
      },
      "source": [
        "### Part (d) -- 2pt\n",
        "\n",
        "Train both `small_net` and `large_net` using the function `train_net` and its default parameters.\n",
        "The function will write many files to disk, including a model checkpoint (saved values of model weights) \n",
        "at the end of each epoch.\n",
        "\n",
        "If you are using Google Colab, you will need to mount Google Drive \n",
        "so that the files generated by `train_net` gets saved. We will be using\n",
        "these files in part (d).\n",
        "(See the Google Colab tutorial for more information about this.)\n",
        "\n",
        "Report the total time elapsed when training each network. Which network took longer to train?\n",
        "Why?"
      ]
    },
    {
      "cell_type": "code",
      "execution_count": 19,
      "metadata": {
        "collapsed": true,
        "id": "tawIVwTfqIEe",
        "jupyter": {
          "outputs_hidden": true
        },
        "colab": {
          "base_uri": "https://localhost:8080/"
        },
        "outputId": "169cc359-2da1-4765-cc15-f10fc142223f"
      },
      "outputs": [
        {
          "output_type": "stream",
          "name": "stdout",
          "text": [
            "Drive already mounted at /content/gdrive; to attempt to forcibly remount, call drive.mount(\"/content/gdrive\", force_remount=True).\n"
          ]
        }
      ],
      "source": [
        "# Since the function writes files to disk, you will need to mount\n",
        "# your Google Drive. If you are working on the lab locally, you\n",
        "# can comment out this code.\n",
        "\n",
        "from google.colab import drive\n",
        "drive.mount('/content/gdrive')"
      ]
    },
    {
      "cell_type": "code",
      "execution_count": null,
      "metadata": {
        "collapsed": true,
        "id": "MWSZm9SvqIEh",
        "jupyter": {
          "outputs_hidden": true
        },
        "colab": {
          "base_uri": "https://localhost:8080/"
        },
        "outputId": "df60f634-d34c-4b66-8f23-69f13181a432"
      },
      "outputs": [
        {
          "output_type": "stream",
          "name": "stdout",
          "text": [
            "Files already downloaded and verified\n",
            "Files already downloaded and verified\n",
            "Epoch 1: Train err: 0.26575, Train loss: 0.5252991070747376 |Validation err: 0.2935, Validation loss: 0.567493331618607\n",
            "model_small_bs64_lr0.01_epoch0\n",
            "Epoch 2: Train err: 0.265, Train loss: 0.5264776999950409 |Validation err: 0.298, Validation loss: 0.5679707741364837\n",
            "model_small_bs64_lr0.01_epoch1\n",
            "Epoch 3: Train err: 0.266375, Train loss: 0.5282133085727692 |Validation err: 0.3, Validation loss: 0.5701394062489271\n",
            "model_small_bs64_lr0.01_epoch2\n",
            "Epoch 4: Train err: 0.267125, Train loss: 0.5274276428222656 |Validation err: 0.2875, Validation loss: 0.5616449993103743\n",
            "model_small_bs64_lr0.01_epoch3\n",
            "Epoch 5: Train err: 0.266875, Train loss: 0.5247185883522034 |Validation err: 0.2935, Validation loss: 0.5731203584000468\n",
            "model_small_bs64_lr0.01_epoch4\n",
            "Epoch 6: Train err: 0.263375, Train loss: 0.5201989634037018 |Validation err: 0.2975, Validation loss: 0.588993146084249\n",
            "model_small_bs64_lr0.01_epoch5\n",
            "Epoch 7: Train err: 0.268375, Train loss: 0.5249552929401398 |Validation err: 0.302, Validation loss: 0.5784050850197673\n",
            "model_small_bs64_lr0.01_epoch6\n",
            "Epoch 8: Train err: 0.26825, Train loss: 0.5260372922420502 |Validation err: 0.2925, Validation loss: 0.5657962588593364\n",
            "model_small_bs64_lr0.01_epoch7\n",
            "Epoch 9: Train err: 0.262875, Train loss: 0.5276692442893982 |Validation err: 0.298, Validation loss: 0.5635896874591708\n",
            "model_small_bs64_lr0.01_epoch8\n",
            "Epoch 10: Train err: 0.26375, Train loss: 0.5264935643672943 |Validation err: 0.2955, Validation loss: 0.572084535844624\n",
            "model_small_bs64_lr0.01_epoch9\n",
            "Epoch 11: Train err: 0.261375, Train loss: 0.5246389720439911 |Validation err: 0.2935, Validation loss: 0.5752167627215385\n",
            "model_small_bs64_lr0.01_epoch10\n",
            "Epoch 12: Train err: 0.26475, Train loss: 0.5202292001247406 |Validation err: 0.2945, Validation loss: 0.5766925187781453\n",
            "model_small_bs64_lr0.01_epoch11\n",
            "Epoch 13: Train err: 0.266125, Train loss: 0.5269785232543945 |Validation err: 0.3015, Validation loss: 0.5725722862407565\n",
            "model_small_bs64_lr0.01_epoch12\n",
            "Epoch 14: Train err: 0.26325, Train loss: 0.5200881686210632 |Validation err: 0.291, Validation loss: 0.5877275876700878\n",
            "model_small_bs64_lr0.01_epoch13\n",
            "Epoch 15: Train err: 0.265125, Train loss: 0.5205488331317901 |Validation err: 0.293, Validation loss: 0.5654476080089808\n",
            "model_small_bs64_lr0.01_epoch14\n",
            "Epoch 16: Train err: 0.271, Train loss: 0.5323604063987732 |Validation err: 0.2985, Validation loss: 0.5830937623977661\n",
            "model_small_bs64_lr0.01_epoch15\n",
            "Epoch 17: Train err: 0.264875, Train loss: 0.5279793608188629 |Validation err: 0.291, Validation loss: 0.5720986146479845\n",
            "model_small_bs64_lr0.01_epoch16\n",
            "Epoch 18: Train err: 0.262375, Train loss: 0.524965523481369 |Validation err: 0.2995, Validation loss: 0.5669561866670847\n",
            "model_small_bs64_lr0.01_epoch17\n",
            "Epoch 19: Train err: 0.26175, Train loss: 0.5221616489887237 |Validation err: 0.3155, Validation loss: 0.6040549408644438\n",
            "model_small_bs64_lr0.01_epoch18\n",
            "Epoch 20: Train err: 0.261625, Train loss: 0.5234670674800873 |Validation err: 0.3, Validation loss: 0.5770201403647661\n",
            "model_small_bs64_lr0.01_epoch19\n",
            "Epoch 21: Train err: 0.264625, Train loss: 0.5242217242717743 |Validation err: 0.3045, Validation loss: 0.5793193569406867\n",
            "model_small_bs64_lr0.01_epoch20\n",
            "Epoch 22: Train err: 0.263625, Train loss: 0.5251616723537446 |Validation err: 0.288, Validation loss: 0.567191245034337\n",
            "model_small_bs64_lr0.01_epoch21\n",
            "Epoch 23: Train err: 0.263125, Train loss: 0.5222697365283966 |Validation err: 0.2965, Validation loss: 0.5693895816802979\n",
            "model_small_bs64_lr0.01_epoch22\n",
            "Epoch 24: Train err: 0.265, Train loss: 0.5228677234649658 |Validation err: 0.294, Validation loss: 0.5907034873962402\n",
            "model_small_bs64_lr0.01_epoch23\n",
            "Epoch 25: Train err: 0.263625, Train loss: 0.5234630057811737 |Validation err: 0.2945, Validation loss: 0.5672074556350708\n",
            "model_small_bs64_lr0.01_epoch24\n",
            "Epoch 26: Train err: 0.260875, Train loss: 0.520248676776886 |Validation err: 0.297, Validation loss: 0.5734718488529325\n",
            "model_small_bs64_lr0.01_epoch25\n",
            "Epoch 27: Train err: 0.261875, Train loss: 0.5200177981853485 |Validation err: 0.2985, Validation loss: 0.577800776809454\n",
            "model_small_bs64_lr0.01_epoch26\n",
            "Epoch 28: Train err: 0.26125, Train loss: 0.5234188044071197 |Validation err: 0.293, Validation loss: 0.5688311140984297\n",
            "model_small_bs64_lr0.01_epoch27\n",
            "Epoch 29: Train err: 0.2625, Train loss: 0.5228993203639984 |Validation err: 0.2935, Validation loss: 0.5856108432635665\n",
            "model_small_bs64_lr0.01_epoch28\n",
            "Epoch 30: Train err: 0.2655, Train loss: 0.5255394141674041 |Validation err: 0.308, Validation loss: 0.5900185601785779\n",
            "model_small_bs64_lr0.01_epoch29\n",
            "Finished Training\n",
            "Total time elapsed: 116.81 seconds\n",
            "Files already downloaded and verified\n",
            "Files already downloaded and verified\n",
            "Epoch 1: Train err: 0.459625, Train loss: 0.6900773992538453 |Validation err: 0.4395, Validation loss: 0.679785842075944\n",
            "model_large_bs64_lr0.01_epoch0\n",
            "Epoch 2: Train err: 0.4095, Train loss: 0.6753271450996399 |Validation err: 0.428, Validation loss: 0.6775321457535028\n",
            "model_large_bs64_lr0.01_epoch1\n",
            "Epoch 3: Train err: 0.385875, Train loss: 0.655777202129364 |Validation err: 0.3725, Validation loss: 0.6437459290027618\n",
            "model_large_bs64_lr0.01_epoch2\n",
            "Epoch 4: Train err: 0.36375, Train loss: 0.6374297170639038 |Validation err: 0.3835, Validation loss: 0.6451097540557384\n",
            "model_large_bs64_lr0.01_epoch3\n",
            "Epoch 5: Train err: 0.34425, Train loss: 0.62311687707901 |Validation err: 0.3405, Validation loss: 0.6192015334963799\n",
            "model_large_bs64_lr0.01_epoch4\n",
            "Epoch 6: Train err: 0.33375, Train loss: 0.6096721262931823 |Validation err: 0.3395, Validation loss: 0.6170550230890512\n",
            "model_large_bs64_lr0.01_epoch5\n"
          ]
        }
      ],
      "source": [
        "train_net(small_net)\n",
        "train_net(large_net)"
      ]
    },
    {
      "cell_type": "markdown",
      "metadata": {
        "id": "Pk4GIF3QqIEj"
      },
      "source": [
        "### Part (e) - 2pt\n",
        "\n",
        "Use the function `plot_training_curve` to display the trajectory of the \n",
        "training/validation error and the training/validation loss.\n",
        "You will need to use the function `get_model_name` to generate the\n",
        "argument to the `plot_training_curve` function.\n",
        "\n",
        "Do this for both the small network and the large network. Include both plots\n",
        "in your writeup."
      ]
    },
    {
      "cell_type": "code",
      "execution_count": null,
      "metadata": {
        "collapsed": true,
        "id": "EXrEgOtuqIEk",
        "jupyter": {
          "outputs_hidden": true
        }
      },
      "outputs": [],
      "source": [
        "#model_path = get_model_name(\"small\", batch_size=??, learning_rate=??, epoch=29)"
      ]
    },
    {
      "cell_type": "markdown",
      "metadata": {
        "id": "kUzWo8HRqIEu"
      },
      "source": [
        "### Part (f) - 5pt\n",
        "\n",
        "Describe what you notice about the training curve.\n",
        "How do the curves differ for `small_net` and `large_net`?\n",
        "Identify any occurences of underfitting and overfitting."
      ]
    },
    {
      "cell_type": "code",
      "execution_count": null,
      "metadata": {
        "collapsed": true,
        "id": "Tqlu1fHZqIEw",
        "jupyter": {
          "outputs_hidden": true
        }
      },
      "outputs": [],
      "source": []
    },
    {
      "cell_type": "markdown",
      "metadata": {
        "id": "jYP_y58SqIEz"
      },
      "source": [
        "## Part 3. Optimization Parameters [12 pt]\n",
        "\n",
        "For this section, we will work with `large_net` only."
      ]
    },
    {
      "cell_type": "markdown",
      "metadata": {
        "id": "f1uGdKUIqIE1"
      },
      "source": [
        "### Part (a) - 3pt\n",
        "\n",
        "Train `large_net` with all default parameters, except set `learning_rate=0.001`.\n",
        "Does the model take longer/shorter to train?\n",
        "Plot the training curve. Describe the effect of *lowering* the learning rate."
      ]
    },
    {
      "cell_type": "code",
      "execution_count": null,
      "metadata": {
        "collapsed": true,
        "id": "b9-toERSqIE2",
        "jupyter": {
          "outputs_hidden": true
        }
      },
      "outputs": [],
      "source": [
        "# Note: When we re-construct the model, we start the training\n",
        "# with *random weights*. If we omit this code, the values of\n",
        "# the weights will still be the previously trained values.\n",
        "large_net = LargeNet()"
      ]
    },
    {
      "cell_type": "markdown",
      "metadata": {
        "id": "5APYluUoqIE4"
      },
      "source": [
        "### Part (b) - 3pt\n",
        "\n",
        "Train `large_net` with all default parameters, except set `learning_rate=0.1`. \n",
        "Does the model take longer/shorter to train?\n",
        "Plot the training curve. Describe the effect of *increasing* the learning rate."
      ]
    },
    {
      "cell_type": "code",
      "execution_count": null,
      "metadata": {
        "collapsed": true,
        "id": "IY7GrjFxqIE5",
        "jupyter": {
          "outputs_hidden": true
        }
      },
      "outputs": [],
      "source": []
    },
    {
      "cell_type": "markdown",
      "metadata": {
        "id": "GMb-NLitqIE7"
      },
      "source": [
        "### Part (c) - 3pt\n",
        "\n",
        "Train `large_net` with all default parameters, including with `learning_rate=0.01`.\n",
        "Now, set `batch_size=512`. Does the model take longer/shorter to train?\n",
        "Plot the training curve. Describe the effect of *increasing* the batch size."
      ]
    },
    {
      "cell_type": "code",
      "execution_count": null,
      "metadata": {
        "collapsed": true,
        "id": "WHRzqMAcqIE8",
        "jupyter": {
          "outputs_hidden": true
        }
      },
      "outputs": [],
      "source": []
    },
    {
      "cell_type": "markdown",
      "metadata": {
        "id": "DwvN15IzqIE-"
      },
      "source": [
        "### Part (d) - 3pt\n",
        "\n",
        "Train `large_net` with all default parameters, including with `learning_rate=0.01`.\n",
        "Now, set `batch_size=16`. Does the model take longer/shorter to train?\n",
        "Plot the training curve. Describe the effect of *decreasing* the batch size."
      ]
    },
    {
      "cell_type": "code",
      "execution_count": null,
      "metadata": {
        "collapsed": true,
        "id": "E0SKvrNGqIE-",
        "jupyter": {
          "outputs_hidden": true
        }
      },
      "outputs": [],
      "source": []
    },
    {
      "cell_type": "markdown",
      "metadata": {
        "id": "1MkpZLc4qIFA"
      },
      "source": [
        "## Part 4. Hyperparameter Search [6 pt]\n",
        "\n",
        "### Part (a) - 2pt\n",
        "\n",
        "Based on the plots from above, choose another set of values for the hyperparameters (network, batch_size, learning_rate)\n",
        "that you think would help you improve the validation accuracy. Justify your choice."
      ]
    },
    {
      "cell_type": "code",
      "execution_count": null,
      "metadata": {
        "collapsed": true,
        "id": "0MocaZsUqIFB",
        "jupyter": {
          "outputs_hidden": true
        }
      },
      "outputs": [],
      "source": []
    },
    {
      "cell_type": "markdown",
      "metadata": {
        "id": "fTLRs2f7qIFD"
      },
      "source": [
        "### Part (b) - 1pt\n",
        "\n",
        "Train the model with the hyperparameters you chose in part(a), and include the training curve."
      ]
    },
    {
      "cell_type": "code",
      "execution_count": null,
      "metadata": {
        "collapsed": true,
        "id": "hCFV10I9qIFD",
        "jupyter": {
          "outputs_hidden": true
        }
      },
      "outputs": [],
      "source": []
    },
    {
      "cell_type": "markdown",
      "metadata": {
        "id": "ZsO4z7JJqIFF"
      },
      "source": [
        "### Part (c) - 2pt\n",
        "\n",
        "Based on your result from Part(a), suggest another set of hyperparameter values to try. \n",
        "Justify your choice."
      ]
    },
    {
      "cell_type": "code",
      "execution_count": null,
      "metadata": {
        "collapsed": true,
        "id": "4sZjOR2RqIFG",
        "jupyter": {
          "outputs_hidden": true
        }
      },
      "outputs": [],
      "source": []
    },
    {
      "cell_type": "markdown",
      "metadata": {
        "id": "VrMyc5QnqIFI"
      },
      "source": [
        "### Part (d) - 1pt\n",
        "\n",
        "Train the model with the hyperparameters you chose in part(c), and include the training curve."
      ]
    },
    {
      "cell_type": "code",
      "execution_count": null,
      "metadata": {
        "collapsed": true,
        "id": "AU0a0PHFqIFJ",
        "jupyter": {
          "outputs_hidden": true
        }
      },
      "outputs": [],
      "source": []
    },
    {
      "cell_type": "markdown",
      "metadata": {
        "id": "1kQB1IFuqIFN"
      },
      "source": [
        "## Part 4. Evaluating the Best Model [15 pt]\n"
      ]
    },
    {
      "cell_type": "markdown",
      "metadata": {
        "id": "Xxje12xKqIFN"
      },
      "source": [
        "### Part (a) - 1pt\n",
        "\n",
        "Choose the **best** model that you have so far. This means choosing the best model checkpoint,\n",
        "including the choice of `small_net` vs `large_net`, the `batch_size`, `learning_rate`, \n",
        "**and the epoch number**.\n",
        "\n",
        "Modify the code below to load your chosen set of weights to the model object `net`."
      ]
    },
    {
      "cell_type": "code",
      "execution_count": null,
      "metadata": {
        "collapsed": true,
        "id": "AanLwIAEqIFO",
        "jupyter": {
          "outputs_hidden": true
        }
      },
      "outputs": [],
      "source": [
        "net = SmallNet()\n",
        "model_path = get_model_name(net.name, batch_size=64, learning_rate=0.01, epoch=10)\n",
        "state = torch.load(model_path)\n",
        "net.load_state_dict(state)"
      ]
    },
    {
      "cell_type": "code",
      "execution_count": null,
      "metadata": {
        "collapsed": true,
        "id": "psNcmnIPqIFQ",
        "jupyter": {
          "outputs_hidden": true
        }
      },
      "outputs": [],
      "source": []
    },
    {
      "cell_type": "markdown",
      "metadata": {
        "id": "vXXwLMIXqIFS"
      },
      "source": [
        "### Part (b) - 2pt\n",
        "\n",
        "Justify your choice of model from part (a)."
      ]
    },
    {
      "cell_type": "code",
      "execution_count": null,
      "metadata": {
        "collapsed": true,
        "id": "yY0cG56EqIFS",
        "jupyter": {
          "outputs_hidden": true
        }
      },
      "outputs": [],
      "source": []
    },
    {
      "cell_type": "markdown",
      "metadata": {
        "id": "S0GE8Z5kqIFU"
      },
      "source": [
        "### Part (c) - 2pt\n",
        "\n",
        "Using the code in Part 0, any code from lecture notes, or any code that you write,\n",
        "compute and report the **test classification error** for your chosen model."
      ]
    },
    {
      "cell_type": "code",
      "execution_count": null,
      "metadata": {
        "collapsed": true,
        "id": "wPUe9iomqIFV",
        "jupyter": {
          "outputs_hidden": true
        }
      },
      "outputs": [],
      "source": [
        "# If you use the `evaluate` function provided in part 0, you will need to \n",
        "# set batch_size > 1\n",
        "train_loader, val_loader, test_loader, classes = get_data_loader(\n",
        "    target_classes=[\"cat\", \"dog\"], \n",
        "    batch_size=64)"
      ]
    },
    {
      "cell_type": "markdown",
      "metadata": {
        "id": "RXK0XaayqIFY"
      },
      "source": [
        "### Part (d) - 3pt\n",
        "\n",
        "How does the test classification error compare with the **validation error**?\n",
        "Explain why you would expect the test error to be *higher* than the validation error."
      ]
    },
    {
      "cell_type": "code",
      "execution_count": null,
      "metadata": {
        "collapsed": true,
        "id": "uxcr2b9NqIFZ",
        "jupyter": {
          "outputs_hidden": true
        }
      },
      "outputs": [],
      "source": []
    },
    {
      "cell_type": "markdown",
      "metadata": {
        "id": "GMA9b8vXqIFd"
      },
      "source": [
        "### Part (e) - 2pt\n",
        "\n",
        "Why did we only use the test data set at the very end?\n",
        "Why is it important that we use the test data as little as possible?"
      ]
    },
    {
      "cell_type": "code",
      "execution_count": null,
      "metadata": {
        "collapsed": true,
        "id": "LPH4pTRKqIFe",
        "jupyter": {
          "outputs_hidden": true
        }
      },
      "outputs": [],
      "source": []
    },
    {
      "cell_type": "markdown",
      "metadata": {
        "id": "hxG0sYDZM2KR"
      },
      "source": [
        "### Part (f) - 5pt\n",
        "\n",
        "How does the your best CNN model compare with an 2-layer ANN model (no convolutional layers) on classifying cat and dog images. You can use a 2-layer ANN architecture similar to what you used in Lab 1. You should explore different hyperparameter settings to determine how well you can do on the validation dataset. Once satisified with the performance, you may test it out on the test data.\n",
        "\n",
        "Hint: The ANN in lab 1 was applied on greyscale images. The cat and dog images are colour (RGB) and so you will need to flatted and concatinate all three colour layers before feeding them into an ANN."
      ]
    },
    {
      "cell_type": "code",
      "execution_count": null,
      "metadata": {
        "collapsed": true,
        "id": "pjI2Zw9jqIFg",
        "jupyter": {
          "outputs_hidden": true
        }
      },
      "outputs": [],
      "source": []
    }
  ],
  "metadata": {
    "colab": {
      "collapsed_sections": [
        "kUzWo8HRqIEu",
        "5APYluUoqIE4",
        "GMb-NLitqIE7",
        "DwvN15IzqIE-",
        "fTLRs2f7qIFD",
        "ZsO4z7JJqIFF",
        "VrMyc5QnqIFI",
        "Xxje12xKqIFN",
        "S0GE8Z5kqIFU"
      ],
      "provenance": [],
      "include_colab_link": true
    },
    "kernelspec": {
      "display_name": "Python 3 (ipykernel)",
      "language": "python",
      "name": "python3"
    },
    "language_info": {
      "codemirror_mode": {
        "name": "ipython",
        "version": 3
      },
      "file_extension": ".py",
      "mimetype": "text/x-python",
      "name": "python",
      "nbconvert_exporter": "python",
      "pygments_lexer": "ipython3",
      "version": "3.9.4"
    },
    "widgets": {
      "application/vnd.jupyter.widget-state+json": {
        "a6db6ef8cc3c40019210cbc04add3dfc": {
          "model_module": "@jupyter-widgets/controls",
          "model_name": "HBoxModel",
          "model_module_version": "1.5.0",
          "state": {
            "_dom_classes": [],
            "_model_module": "@jupyter-widgets/controls",
            "_model_module_version": "1.5.0",
            "_model_name": "HBoxModel",
            "_view_count": null,
            "_view_module": "@jupyter-widgets/controls",
            "_view_module_version": "1.5.0",
            "_view_name": "HBoxView",
            "box_style": "",
            "children": [
              "IPY_MODEL_46fe9023069545cfaf31a72b745c84dc",
              "IPY_MODEL_dfdacec15ce34431994a7947fffc69a5",
              "IPY_MODEL_0d2170e36af24ad5b7e6492e5cc1d3a0"
            ],
            "layout": "IPY_MODEL_cbb8e87501ae40168d7ab61de0d4b2f8"
          }
        },
        "46fe9023069545cfaf31a72b745c84dc": {
          "model_module": "@jupyter-widgets/controls",
          "model_name": "HTMLModel",
          "model_module_version": "1.5.0",
          "state": {
            "_dom_classes": [],
            "_model_module": "@jupyter-widgets/controls",
            "_model_module_version": "1.5.0",
            "_model_name": "HTMLModel",
            "_view_count": null,
            "_view_module": "@jupyter-widgets/controls",
            "_view_module_version": "1.5.0",
            "_view_name": "HTMLView",
            "description": "",
            "description_tooltip": null,
            "layout": "IPY_MODEL_204eb119c09041989f3654efbec5d923",
            "placeholder": "​",
            "style": "IPY_MODEL_87f41d53a54042e3a4a8420b1943f7e0",
            "value": "100%"
          }
        },
        "dfdacec15ce34431994a7947fffc69a5": {
          "model_module": "@jupyter-widgets/controls",
          "model_name": "FloatProgressModel",
          "model_module_version": "1.5.0",
          "state": {
            "_dom_classes": [],
            "_model_module": "@jupyter-widgets/controls",
            "_model_module_version": "1.5.0",
            "_model_name": "FloatProgressModel",
            "_view_count": null,
            "_view_module": "@jupyter-widgets/controls",
            "_view_module_version": "1.5.0",
            "_view_name": "ProgressView",
            "bar_style": "success",
            "description": "",
            "description_tooltip": null,
            "layout": "IPY_MODEL_c9135b4f69744963bee22a8f8848c50f",
            "max": 170498071,
            "min": 0,
            "orientation": "horizontal",
            "style": "IPY_MODEL_7f4f76a79db04abfaab5b1a4ad184c30",
            "value": 170498071
          }
        },
        "0d2170e36af24ad5b7e6492e5cc1d3a0": {
          "model_module": "@jupyter-widgets/controls",
          "model_name": "HTMLModel",
          "model_module_version": "1.5.0",
          "state": {
            "_dom_classes": [],
            "_model_module": "@jupyter-widgets/controls",
            "_model_module_version": "1.5.0",
            "_model_name": "HTMLModel",
            "_view_count": null,
            "_view_module": "@jupyter-widgets/controls",
            "_view_module_version": "1.5.0",
            "_view_name": "HTMLView",
            "description": "",
            "description_tooltip": null,
            "layout": "IPY_MODEL_da6d10c09f0a4f5d91a23c7c7afcc42d",
            "placeholder": "​",
            "style": "IPY_MODEL_9a9f5b9eb8434ef4b1fa26cf99bc5c69",
            "value": " 170498071/170498071 [00:13&lt;00:00, 13244713.44it/s]"
          }
        },
        "cbb8e87501ae40168d7ab61de0d4b2f8": {
          "model_module": "@jupyter-widgets/base",
          "model_name": "LayoutModel",
          "model_module_version": "1.2.0",
          "state": {
            "_model_module": "@jupyter-widgets/base",
            "_model_module_version": "1.2.0",
            "_model_name": "LayoutModel",
            "_view_count": null,
            "_view_module": "@jupyter-widgets/base",
            "_view_module_version": "1.2.0",
            "_view_name": "LayoutView",
            "align_content": null,
            "align_items": null,
            "align_self": null,
            "border": null,
            "bottom": null,
            "display": null,
            "flex": null,
            "flex_flow": null,
            "grid_area": null,
            "grid_auto_columns": null,
            "grid_auto_flow": null,
            "grid_auto_rows": null,
            "grid_column": null,
            "grid_gap": null,
            "grid_row": null,
            "grid_template_areas": null,
            "grid_template_columns": null,
            "grid_template_rows": null,
            "height": null,
            "justify_content": null,
            "justify_items": null,
            "left": null,
            "margin": null,
            "max_height": null,
            "max_width": null,
            "min_height": null,
            "min_width": null,
            "object_fit": null,
            "object_position": null,
            "order": null,
            "overflow": null,
            "overflow_x": null,
            "overflow_y": null,
            "padding": null,
            "right": null,
            "top": null,
            "visibility": null,
            "width": null
          }
        },
        "204eb119c09041989f3654efbec5d923": {
          "model_module": "@jupyter-widgets/base",
          "model_name": "LayoutModel",
          "model_module_version": "1.2.0",
          "state": {
            "_model_module": "@jupyter-widgets/base",
            "_model_module_version": "1.2.0",
            "_model_name": "LayoutModel",
            "_view_count": null,
            "_view_module": "@jupyter-widgets/base",
            "_view_module_version": "1.2.0",
            "_view_name": "LayoutView",
            "align_content": null,
            "align_items": null,
            "align_self": null,
            "border": null,
            "bottom": null,
            "display": null,
            "flex": null,
            "flex_flow": null,
            "grid_area": null,
            "grid_auto_columns": null,
            "grid_auto_flow": null,
            "grid_auto_rows": null,
            "grid_column": null,
            "grid_gap": null,
            "grid_row": null,
            "grid_template_areas": null,
            "grid_template_columns": null,
            "grid_template_rows": null,
            "height": null,
            "justify_content": null,
            "justify_items": null,
            "left": null,
            "margin": null,
            "max_height": null,
            "max_width": null,
            "min_height": null,
            "min_width": null,
            "object_fit": null,
            "object_position": null,
            "order": null,
            "overflow": null,
            "overflow_x": null,
            "overflow_y": null,
            "padding": null,
            "right": null,
            "top": null,
            "visibility": null,
            "width": null
          }
        },
        "87f41d53a54042e3a4a8420b1943f7e0": {
          "model_module": "@jupyter-widgets/controls",
          "model_name": "DescriptionStyleModel",
          "model_module_version": "1.5.0",
          "state": {
            "_model_module": "@jupyter-widgets/controls",
            "_model_module_version": "1.5.0",
            "_model_name": "DescriptionStyleModel",
            "_view_count": null,
            "_view_module": "@jupyter-widgets/base",
            "_view_module_version": "1.2.0",
            "_view_name": "StyleView",
            "description_width": ""
          }
        },
        "c9135b4f69744963bee22a8f8848c50f": {
          "model_module": "@jupyter-widgets/base",
          "model_name": "LayoutModel",
          "model_module_version": "1.2.0",
          "state": {
            "_model_module": "@jupyter-widgets/base",
            "_model_module_version": "1.2.0",
            "_model_name": "LayoutModel",
            "_view_count": null,
            "_view_module": "@jupyter-widgets/base",
            "_view_module_version": "1.2.0",
            "_view_name": "LayoutView",
            "align_content": null,
            "align_items": null,
            "align_self": null,
            "border": null,
            "bottom": null,
            "display": null,
            "flex": null,
            "flex_flow": null,
            "grid_area": null,
            "grid_auto_columns": null,
            "grid_auto_flow": null,
            "grid_auto_rows": null,
            "grid_column": null,
            "grid_gap": null,
            "grid_row": null,
            "grid_template_areas": null,
            "grid_template_columns": null,
            "grid_template_rows": null,
            "height": null,
            "justify_content": null,
            "justify_items": null,
            "left": null,
            "margin": null,
            "max_height": null,
            "max_width": null,
            "min_height": null,
            "min_width": null,
            "object_fit": null,
            "object_position": null,
            "order": null,
            "overflow": null,
            "overflow_x": null,
            "overflow_y": null,
            "padding": null,
            "right": null,
            "top": null,
            "visibility": null,
            "width": null
          }
        },
        "7f4f76a79db04abfaab5b1a4ad184c30": {
          "model_module": "@jupyter-widgets/controls",
          "model_name": "ProgressStyleModel",
          "model_module_version": "1.5.0",
          "state": {
            "_model_module": "@jupyter-widgets/controls",
            "_model_module_version": "1.5.0",
            "_model_name": "ProgressStyleModel",
            "_view_count": null,
            "_view_module": "@jupyter-widgets/base",
            "_view_module_version": "1.2.0",
            "_view_name": "StyleView",
            "bar_color": null,
            "description_width": ""
          }
        },
        "da6d10c09f0a4f5d91a23c7c7afcc42d": {
          "model_module": "@jupyter-widgets/base",
          "model_name": "LayoutModel",
          "model_module_version": "1.2.0",
          "state": {
            "_model_module": "@jupyter-widgets/base",
            "_model_module_version": "1.2.0",
            "_model_name": "LayoutModel",
            "_view_count": null,
            "_view_module": "@jupyter-widgets/base",
            "_view_module_version": "1.2.0",
            "_view_name": "LayoutView",
            "align_content": null,
            "align_items": null,
            "align_self": null,
            "border": null,
            "bottom": null,
            "display": null,
            "flex": null,
            "flex_flow": null,
            "grid_area": null,
            "grid_auto_columns": null,
            "grid_auto_flow": null,
            "grid_auto_rows": null,
            "grid_column": null,
            "grid_gap": null,
            "grid_row": null,
            "grid_template_areas": null,
            "grid_template_columns": null,
            "grid_template_rows": null,
            "height": null,
            "justify_content": null,
            "justify_items": null,
            "left": null,
            "margin": null,
            "max_height": null,
            "max_width": null,
            "min_height": null,
            "min_width": null,
            "object_fit": null,
            "object_position": null,
            "order": null,
            "overflow": null,
            "overflow_x": null,
            "overflow_y": null,
            "padding": null,
            "right": null,
            "top": null,
            "visibility": null,
            "width": null
          }
        },
        "9a9f5b9eb8434ef4b1fa26cf99bc5c69": {
          "model_module": "@jupyter-widgets/controls",
          "model_name": "DescriptionStyleModel",
          "model_module_version": "1.5.0",
          "state": {
            "_model_module": "@jupyter-widgets/controls",
            "_model_module_version": "1.5.0",
            "_model_name": "DescriptionStyleModel",
            "_view_count": null,
            "_view_module": "@jupyter-widgets/base",
            "_view_module_version": "1.2.0",
            "_view_name": "StyleView",
            "description_width": ""
          }
        }
      }
    },
    "accelerator": "GPU",
    "gpuClass": "standard"
  },
  "nbformat": 4,
  "nbformat_minor": 0
}